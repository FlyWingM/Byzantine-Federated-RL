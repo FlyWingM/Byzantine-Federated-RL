{
 "cells": [
  {
   "cell_type": "code",
   "execution_count": 1,
   "metadata": {},
   "outputs": [],
   "source": [
    "import torch\n",
    "import numpy as np\n",
    "import gym\n",
    "from gym.spaces import Discrete, Box\n",
    "from policy import MlpPolicy, DiagonalGaussianMlpPolicy, LinearCritic\n",
    "from utils import get_inner_model\n",
    "from copy import deepcopy\n",
    "import math\n",
    "import torch.optim as optim\n",
    "from utils import env_wrapper\n",
    "from highway_env import __init__\n",
    "import pprint\n"
   ]
  },
  {
   "cell_type": "code",
   "execution_count": 4,
   "metadata": {},
   "outputs": [
    {
     "data": {
      "text/plain": [
       "array([[ 1.00000000e+00,  1.00000000e+00,  3.33333333e-01,\n",
       "         4.16666667e-01,  0.00000000e+00],\n",
       "       [ 1.00000000e+00,  1.55714476e-01,  0.00000000e+00,\n",
       "        -1.38357040e-02,  0.00000000e+00],\n",
       "       [ 1.00000000e+00,  3.01759508e-01, -3.33333333e-01,\n",
       "        -6.27352461e-03,  0.00000000e+00],\n",
       "       [ 1.00000000e+00,  4.45431843e-01, -3.33333333e-01,\n",
       "        -4.40762491e-04,  0.00000000e+00],\n",
       "       [ 1.00000000e+00,  5.75116132e-01,  0.00000000e+00,\n",
       "        -2.92735381e-02,  0.00000000e+00],\n",
       "       [ 1.00000000e+00,  7.13473168e-01,  0.00000000e+00,\n",
       "        -2.10318469e-02,  0.00000000e+00],\n",
       "       [ 1.00000000e+00,  8.61188840e-01,  3.33333333e-01,\n",
       "        -2.05359604e-02,  0.00000000e+00],\n",
       "       [ 1.00000000e+00,  1.00000000e+00, -3.33333333e-01,\n",
       "        -1.64280798e-02,  0.00000000e+00],\n",
       "       [ 1.00000000e+00,  1.00000000e+00,  3.33333333e-01,\n",
       "        -2.19061823e-02,  0.00000000e+00],\n",
       "       [ 0.00000000e+00,  0.00000000e+00,  0.00000000e+00,\n",
       "         0.00000000e+00,  0.00000000e+00],\n",
       "       [ 0.00000000e+00,  0.00000000e+00,  0.00000000e+00,\n",
       "         0.00000000e+00,  0.00000000e+00],\n",
       "       [ 0.00000000e+00,  0.00000000e+00,  0.00000000e+00,\n",
       "         0.00000000e+00,  0.00000000e+00],\n",
       "       [ 0.00000000e+00,  0.00000000e+00,  0.00000000e+00,\n",
       "         0.00000000e+00,  0.00000000e+00],\n",
       "       [ 0.00000000e+00,  0.00000000e+00,  0.00000000e+00,\n",
       "         0.00000000e+00,  0.00000000e+00],\n",
       "       [ 0.00000000e+00,  0.00000000e+00,  0.00000000e+00,\n",
       "         0.00000000e+00,  0.00000000e+00]])"
      ]
     },
     "execution_count": 4,
     "metadata": {},
     "output_type": "execute_result"
    }
   ],
   "source": [
    "env = gym.make('highway-v0')\n",
    "env.reset()"
   ]
  },
  {
   "cell_type": "code",
   "execution_count": 2,
   "metadata": {},
   "outputs": [
    {
     "data": {
      "text/plain": [
       "array([[ 1.        ,  1.        ,  0.        ,  0.41666667,  0.        ],\n",
       "       [ 1.        ,  0.73476052,  0.66666667, -0.01474366,  0.        ],\n",
       "       [ 0.        ,  0.        ,  0.        ,  0.        ,  0.        ],\n",
       "       [ 0.        ,  0.        ,  0.        ,  0.        ,  0.        ],\n",
       "       [ 0.        ,  0.        ,  0.        ,  0.        ,  0.        ],\n",
       "       [ 1.        ,  0.4428166 ,  0.        , -0.00352717,  0.        ],\n",
       "       [ 1.        ,  0.30522285,  0.        , -0.01219088,  0.        ],\n",
       "       [ 1.        ,  0.59630259,  0.33333333, -0.02029   ,  0.        ],\n",
       "       [ 0.        ,  0.        ,  0.        ,  0.        ,  0.        ],\n",
       "       [ 1.        ,  0.15213398,  0.        , -0.02908884,  0.        ],\n",
       "       [ 1.        ,  1.        ,  0.33333333, -0.00432707,  0.        ],\n",
       "       [ 1.        ,  1.        ,  0.33333333, -0.01489333,  0.        ],\n",
       "       [ 0.        ,  0.        ,  0.        ,  0.        ,  0.        ],\n",
       "       [ 0.        ,  0.        ,  0.        ,  0.        ,  0.        ],\n",
       "       [ 1.        ,  0.88903177,  0.33333333, -0.02291699,  0.        ]])"
      ]
     },
     "execution_count": 2,
     "metadata": {},
     "output_type": "execute_result"
    }
   ],
   "source": [
    "env = gym.make('highway-v0')\n",
    "env.reset()"
   ]
  },
  {
   "cell_type": "code",
   "execution_count": 3,
   "metadata": {},
   "outputs": [],
   "source": [
    "env.render()"
   ]
  },
  {
   "cell_type": "code",
   "execution_count": null,
   "metadata": {},
   "outputs": [],
   "source": []
  },
  {
   "cell_type": "code",
   "execution_count": 8,
   "metadata": {},
   "outputs": [
    {
     "name": "stdout",
     "output_type": "stream",
     "text": [
      "[[ 1.          1.          0.          0.41666667  0.        ]\n",
      " [ 1.          0.13849769  0.         -0.0289729   0.        ]\n",
      " [ 1.          0.27323365  0.33333333 -0.02140837  0.        ]\n",
      " [ 1.          0.42690484  0.33333333 -0.00429264  0.        ]\n",
      " [ 1.          0.57658859  0.66666667 -0.00943406  0.        ]]\n"
     ]
    }
   ],
   "source": []
  },
  {
   "cell_type": "code",
   "execution_count": 9,
   "metadata": {},
   "outputs": [
    {
     "data": {
      "text/plain": [
       "{'observation': {'type': 'Kinematics',\n",
       "  'features': ['presence', 'x', 'y', 'vx', 'vy'],\n",
       "  'absolute': False,\n",
       "  'order': 'sorted'},\n",
       " 'action': {'type': 'DiscreteMetaAction'},\n",
       " 'simulation_frequency': 10,\n",
       " 'policy_frequency': 1,\n",
       " 'other_vehicles_type': 'highway_env.vehicle.behavior.IDMVehicle',\n",
       " 'screen_width': 600,\n",
       " 'screen_height': 150,\n",
       " 'centering_position': [0.3, 0.5],\n",
       " 'scaling': 5.5,\n",
       " 'show_trajectories': False,\n",
       " 'render_agent': False,\n",
       " 'offscreen_rendering': False,\n",
       " 'manual_control': False,\n",
       " 'real_time_rendering': False,\n",
       " 'lanes_count': 3,\n",
       " 'vehicles_count': 15,\n",
       " 'controlled_vehicles': 1,\n",
       " 'initial_lane_id': None,\n",
       " 'duration': 100,\n",
       " 'ego_spacing': 2,\n",
       " 'vehicles_density': 1,\n",
       " 'collision_reward': -5,\n",
       " 'reward_speed_range': [20, 30],\n",
       " 'offroad_terminal': False}"
      ]
     },
     "execution_count": 9,
     "metadata": {},
     "output_type": "execute_result"
    }
   ],
   "source": [
    "env.config"
   ]
  },
  {
   "cell_type": "code",
   "execution_count": 9,
   "metadata": {},
   "outputs": [
    {
     "name": "stderr",
     "output_type": "stream",
     "text": [
      "usage: ipykernel_launcher.py [-h] [--env_name ENV_NAME] [--eval_only]\n",
      "                             [--no_cuda] [--do_saving] [--no_tb] [--seed SEED]\n",
      "                             [--render] [--multiple_run MULTIPLE_RUN]\n",
      "                             [--val_size VAL_SIZE] [--num_worker NUM_WORKER]\n",
      "                             [--num_Byzantine NUM_BYZANTINE]\n",
      "                             [--attack_type {sign-flipping,zero-gradient,random-noise,detect-attack}]\n",
      "                             [--activation ACTIVATION]\n",
      "                             [--output_activation OUTPUT_ACTIVATION] [--svrg]\n",
      "                             [--scsg] [--with_filter] [--alpha ALPHA]\n",
      "                             [--delta DELTA] [--sigma SIGMA]\n",
      "                             [--load_path LOAD_PATH] [--log_dir LOG_DIR]\n",
      "                             [--run_name RUN_NAME]\n",
      "ipykernel_launcher.py: error: unrecognized arguments: -f /Users/chihuijue/Library/Jupyter/runtime/kernel-4699ea70-6e59-4e0a-a922-d7fdfa7651d2.json\n"
     ]
    },
    {
     "ename": "SystemExit",
     "evalue": "2",
     "output_type": "error",
     "traceback": [
      "An exception has occurred, use %tb to see the full traceback.\n",
      "\u001b[0;31mSystemExit\u001b[0m\u001b[0;31m:\u001b[0m 2\n"
     ]
    }
   ],
   "source": [
    "from options import get_options\n",
    "opts = get_options()\n",
    "\n",
    "import json\n",
    "import pprint\n",
    "from agent import Agent\n",
    "from worker import Worker\n",
    "from options import get_options\n",
    "from utils import get_inner_model\n",
    "\n",
    "agent = Agent(opts)"
   ]
  },
  {
   "cell_type": "code",
   "execution_count": 13,
   "metadata": {},
   "outputs": [
    {
     "name": "stdout",
     "output_type": "stream",
     "text": [
      "tensor([ 0.6046, -0.8513,  0.9254,  0.9436, -0.0161])\n"
     ]
    }
   ],
   "source": [
    "from torch.distributions.categorical import Categorical\n",
    "a = (torch.rand(5) - 0.5)*2\n",
    "print(a)"
   ]
  },
  {
   "cell_type": "code",
   "execution_count": 18,
   "metadata": {},
   "outputs": [
    {
     "data": {
      "text/plain": [
       "tensor([0.2197, 0.0512, 0.3027, 0.3083, 0.1181])"
      ]
     },
     "execution_count": 18,
     "metadata": {},
     "output_type": "execute_result"
    }
   ],
   "source": [
    "a = torch.softmax(a, -1)\n",
    "\n",
    "policy = Categorical(a)\n",
    "policy.probs"
   ]
  },
  {
   "cell_type": "code",
   "execution_count": 22,
   "metadata": {},
   "outputs": [
    {
     "name": "stderr",
     "output_type": "stream",
     "text": [
      "MovieWriter imagemagick unavailable; using Pillow instead.\n"
     ]
    },
    {
     "data": {
      "image/png": "[encoded data removed]",
      "text/plain": [
       "<Figure size 1200x800 with 1 Axes>"
      ]
     },
     "metadata": {
      "needs_background": "light"
     },
     "output_type": "display_data"
    }
   ],
   "source": [
    "from matplotlib import animation\n",
    "import matplotlib.pyplot as plt\n",
    "def save_frames_as_gif(frames, path='./', filename='gym_animation.gif'):\n",
    "\n",
    "    #Mess with this to change frame size\n",
    "    plt.figure(figsize=(frames[0].shape[1] / 72.0, frames[0].shape[0] / 72.0), dpi=72)\n",
    "\n",
    "    patch = plt.imshow(frames[0])\n",
    "    plt.axis('off')\n",
    "\n",
    "    def animate(i):\n",
    "        patch.set_data(frames[i])\n",
    "\n",
    "    anim = animation.FuncAnimation(plt.gcf(), animate, frames = len(frames), interval=50)\n",
    "    anim.save(path + filename, writer='imagemagick', fps=60)\n",
    "    \n",
    "    \n",
    "env = gym.make('CartPole-v1')\n",
    "\n",
    "#Run the env\n",
    "observation = env.reset()\n",
    "frames = []\n",
    "for t in range(1000):\n",
    "    #Render to frames buffer\n",
    "    frames.append(env.render(mode=\"rgb_array\"))\n",
    "    action = env.action_space.sample()\n",
    "    _, _, done, _ = env.step(action)\n",
    "    if done:\n",
    "        break\n",
    "env.close()\n",
    "save_frames_as_gif(frames)"
   ]
  },
  {
   "cell_type": "code",
   "execution_count": null,
   "metadata": {},
   "outputs": [],
   "source": []
  }
 ],
 "metadata": {
  "kernelspec": {
   "display_name": "pytorch1.4",
   "language": "python",
   "name": "pytorch1.4"
  },
  "language_info": {
   "codemirror_mode": {
    "name": "ipython",
    "version": 3
   },
   "file_extension": ".py",
   "mimetype": "text/x-python",
   "name": "python",
   "nbconvert_exporter": "python",
   "pygments_lexer": "ipython3",
   "version": "3.6.12"
  }
 },
 "nbformat": 4,
 "nbformat_minor": 4
}
